{
 "cells": [
  {
   "cell_type": "markdown",
   "metadata": {},
   "source": [
    "## 项目背景\n",
    "此项目是2017年biendata上的一个比赛项目，赛事方提供了300万行的训练数据和200万行的测试数据，旨在预测用户骑行目的地的区块位置。  \n",
    "本文将使用项目中给出的训练集数据train.csv进行数据的探索性分析，利用python工具来探索用户骑行规律，暂不涉及建模。"
   ]
  },
  {
   "cell_type": "markdown",
   "metadata": {},
   "source": [
    "## 数据概况"
   ]
  },
  {
   "cell_type": "markdown",
   "metadata": {},
   "source": [
    "![部分数据已进行脱敏处理](https://img-blog.csdnimg.cn/20190626224047160.jpg?x-oss-process=image/watermark,type_ZmFuZ3poZW5naGVpdGk,shadow_10,text_aHR0cHM6Ly9ibG9nLmNzZG4ubmV0L3p3Ymx1ZXNreTE5OTE=,size_16,color_FFFFFF,t_70)"
   ]
  },
  {
   "cell_type": "code",
   "execution_count": 2,
   "metadata": {},
   "outputs": [],
   "source": [
    "#导入所需要的包\n",
    "import pandas as pd\n",
    "import numpy as np\n",
    "import seaborn as sns\n",
    "import matplotlib.pyplot as plt\n",
    "from math import radians,cos,sin,asin,sqrt\n",
    "%matplotlib inline"
   ]
  },
  {
   "cell_type": "code",
   "execution_count": 3,
   "metadata": {},
   "outputs": [],
   "source": [
    "train = pd.read_csv('C:/Users/Administrator/Desktop/soton保障班/MOBIKE_CUP_2017/train.csv', sep = ',', parse_dates = ['starttime'])\n",
    "test = pd.read_csv('C:/Users/Administrator/Desktop/soton保障班/MOBIKE_CUP_2017/test.csv', sep = ',', parse_dates = ['starttime'])"
   ]
  },
  {
   "cell_type": "code",
   "execution_count": 4,
   "metadata": {},
   "outputs": [
    {
     "data": {
      "text/html": [
       "<div>\n",
       "<style scoped>\n",
       "    .dataframe tbody tr th:only-of-type {\n",
       "        vertical-align: middle;\n",
       "    }\n",
       "\n",
       "    .dataframe tbody tr th {\n",
       "        vertical-align: top;\n",
       "    }\n",
       "\n",
       "    .dataframe thead th {\n",
       "        text-align: right;\n",
       "    }\n",
       "</style>\n",
       "<table border=\"1\" class=\"dataframe\">\n",
       "  <thead>\n",
       "    <tr style=\"text-align: right;\">\n",
       "      <th></th>\n",
       "      <th>orderid</th>\n",
       "      <th>userid</th>\n",
       "      <th>bikeid</th>\n",
       "      <th>biketype</th>\n",
       "      <th>starttime</th>\n",
       "      <th>geohashed_start_loc</th>\n",
       "      <th>geohashed_end_loc</th>\n",
       "    </tr>\n",
       "  </thead>\n",
       "  <tbody>\n",
       "    <tr>\n",
       "      <th>0</th>\n",
       "      <td>1893973</td>\n",
       "      <td>451147</td>\n",
       "      <td>210617</td>\n",
       "      <td>2</td>\n",
       "      <td>2017-05-14 22:16:50</td>\n",
       "      <td>wx4snhx</td>\n",
       "      <td>wx4snhj</td>\n",
       "    </tr>\n",
       "    <tr>\n",
       "      <th>1</th>\n",
       "      <td>4657992</td>\n",
       "      <td>1061133</td>\n",
       "      <td>465394</td>\n",
       "      <td>1</td>\n",
       "      <td>2017-05-14 22:16:52</td>\n",
       "      <td>wx4dr59</td>\n",
       "      <td>wx4dquz</td>\n",
       "    </tr>\n",
       "    <tr>\n",
       "      <th>2</th>\n",
       "      <td>2965085</td>\n",
       "      <td>549189</td>\n",
       "      <td>310572</td>\n",
       "      <td>1</td>\n",
       "      <td>2017-05-14 22:16:51</td>\n",
       "      <td>wx4fgur</td>\n",
       "      <td>wx4fu5n</td>\n",
       "    </tr>\n",
       "    <tr>\n",
       "      <th>3</th>\n",
       "      <td>4548579</td>\n",
       "      <td>489720</td>\n",
       "      <td>456688</td>\n",
       "      <td>1</td>\n",
       "      <td>2017-05-14 22:16:51</td>\n",
       "      <td>wx4d5r5</td>\n",
       "      <td>wx4d5r4</td>\n",
       "    </tr>\n",
       "    <tr>\n",
       "      <th>4</th>\n",
       "      <td>3936364</td>\n",
       "      <td>467449</td>\n",
       "      <td>403224</td>\n",
       "      <td>1</td>\n",
       "      <td>2017-05-14 22:16:50</td>\n",
       "      <td>wx4g27p</td>\n",
       "      <td>wx4g266</td>\n",
       "    </tr>\n",
       "  </tbody>\n",
       "</table>\n",
       "</div>"
      ],
      "text/plain": [
       "   orderid   userid  bikeid  biketype           starttime geohashed_start_loc  \\\n",
       "0  1893973   451147  210617         2 2017-05-14 22:16:50             wx4snhx   \n",
       "1  4657992  1061133  465394         1 2017-05-14 22:16:52             wx4dr59   \n",
       "2  2965085   549189  310572         1 2017-05-14 22:16:51             wx4fgur   \n",
       "3  4548579   489720  456688         1 2017-05-14 22:16:51             wx4d5r5   \n",
       "4  3936364   467449  403224         1 2017-05-14 22:16:50             wx4g27p   \n",
       "\n",
       "  geohashed_end_loc  \n",
       "0           wx4snhj  \n",
       "1           wx4dquz  \n",
       "2           wx4fu5n  \n",
       "3           wx4d5r4  \n",
       "4           wx4g266  "
      ]
     },
     "execution_count": 4,
     "metadata": {},
     "output_type": "execute_result"
    }
   ],
   "source": [
    "train.head()"
   ]
  },
  {
   "cell_type": "code",
   "execution_count": 5,
   "metadata": {
    "scrolled": true
   },
   "outputs": [
    {
     "data": {
      "text/html": [
       "<div>\n",
       "<style scoped>\n",
       "    .dataframe tbody tr th:only-of-type {\n",
       "        vertical-align: middle;\n",
       "    }\n",
       "\n",
       "    .dataframe tbody tr th {\n",
       "        vertical-align: top;\n",
       "    }\n",
       "\n",
       "    .dataframe thead th {\n",
       "        text-align: right;\n",
       "    }\n",
       "</style>\n",
       "<table border=\"1\" class=\"dataframe\">\n",
       "  <thead>\n",
       "    <tr style=\"text-align: right;\">\n",
       "      <th></th>\n",
       "      <th>orderid</th>\n",
       "      <th>userid</th>\n",
       "      <th>bikeid</th>\n",
       "      <th>biketype</th>\n",
       "      <th>starttime</th>\n",
       "      <th>geohashed_start_loc</th>\n",
       "    </tr>\n",
       "  </thead>\n",
       "  <tbody>\n",
       "    <tr>\n",
       "      <th>0</th>\n",
       "      <td>86458</td>\n",
       "      <td>467987</td>\n",
       "      <td>13488</td>\n",
       "      <td>1</td>\n",
       "      <td>2017-05-27 19:19:41</td>\n",
       "      <td>wx4gfbe</td>\n",
       "    </tr>\n",
       "    <tr>\n",
       "      <th>1</th>\n",
       "      <td>1473189</td>\n",
       "      <td>976462</td>\n",
       "      <td>170537</td>\n",
       "      <td>2</td>\n",
       "      <td>2017-05-31 17:45:38</td>\n",
       "      <td>wx4eqep</td>\n",
       "    </tr>\n",
       "    <tr>\n",
       "      <th>2</th>\n",
       "      <td>1441027</td>\n",
       "      <td>790813</td>\n",
       "      <td>167447</td>\n",
       "      <td>2</td>\n",
       "      <td>2017-05-26 11:31:48</td>\n",
       "      <td>wx4e5zr</td>\n",
       "    </tr>\n",
       "    <tr>\n",
       "      <th>3</th>\n",
       "      <td>4747983</td>\n",
       "      <td>744823</td>\n",
       "      <td>472963</td>\n",
       "      <td>1</td>\n",
       "      <td>2017-05-31 18:30:43</td>\n",
       "      <td>wx4dxz4</td>\n",
       "    </tr>\n",
       "    <tr>\n",
       "      <th>4</th>\n",
       "      <td>43984</td>\n",
       "      <td>712391</td>\n",
       "      <td>7158</td>\n",
       "      <td>1</td>\n",
       "      <td>2017-05-25 12:46:16</td>\n",
       "      <td>wx4ewq5</td>\n",
       "    </tr>\n",
       "  </tbody>\n",
       "</table>\n",
       "</div>"
      ],
      "text/plain": [
       "   orderid  userid  bikeid  biketype           starttime geohashed_start_loc\n",
       "0    86458  467987   13488         1 2017-05-27 19:19:41             wx4gfbe\n",
       "1  1473189  976462  170537         2 2017-05-31 17:45:38             wx4eqep\n",
       "2  1441027  790813  167447         2 2017-05-26 11:31:48             wx4e5zr\n",
       "3  4747983  744823  472963         1 2017-05-31 18:30:43             wx4dxz4\n",
       "4    43984  712391    7158         1 2017-05-25 12:46:16             wx4ewq5"
      ]
     },
     "execution_count": 5,
     "metadata": {},
     "output_type": "execute_result"
    }
   ],
   "source": [
    "test.head()"
   ]
  },
  {
   "cell_type": "markdown",
   "metadata": {},
   "source": [
    "[Geohash精度和原理](https://blog.csdn.net/u011497262/article/details/81210634)，感兴趣的可以查看一下，这里不探究，只应用。"
   ]
  },
  {
   "cell_type": "code",
   "execution_count": 6,
   "metadata": {},
   "outputs": [],
   "source": [
    "import geohash"
   ]
  },
  {
   "cell_type": "code",
   "execution_count": 7,
   "metadata": {},
   "outputs": [
    {
     "data": {
      "text/plain": [
       "(3214096, 7)"
      ]
     },
     "execution_count": 7,
     "metadata": {},
     "output_type": "execute_result"
    }
   ],
   "source": [
    "train.shape"
   ]
  },
  {
   "cell_type": "code",
   "execution_count": 8,
   "metadata": {},
   "outputs": [
    {
     "data": {
      "text/plain": [
       "(2002996, 6)"
      ]
     },
     "execution_count": 8,
     "metadata": {},
     "output_type": "execute_result"
    }
   ],
   "source": [
    "test.shape"
   ]
  },
  {
   "cell_type": "markdown",
   "metadata": {},
   "source": [
    "训练集有320万条数据，测试集有200万条数据，训练集比测试集多了一列geohashed_end_loc，即是测试集需要预测的目的地。"
   ]
  },
  {
   "cell_type": "code",
   "execution_count": 9,
   "metadata": {},
   "outputs": [
    {
     "data": {
      "text/plain": [
       "349693"
      ]
     },
     "execution_count": 9,
     "metadata": {},
     "output_type": "execute_result"
    }
   ],
   "source": [
    "train['userid'].unique().size"
   ]
  },
  {
   "cell_type": "code",
   "execution_count": 10,
   "metadata": {},
   "outputs": [
    {
     "data": {
      "text/plain": [
       "485465"
      ]
     },
     "execution_count": 10,
     "metadata": {},
     "output_type": "execute_result"
    }
   ],
   "source": [
    "train['bikeid'].unique().size"
   ]
  },
  {
   "cell_type": "code",
   "execution_count": 11,
   "metadata": {},
   "outputs": [
    {
     "data": {
      "text/plain": [
       "2"
      ]
     },
     "execution_count": 11,
     "metadata": {},
     "output_type": "execute_result"
    }
   ],
   "source": [
    "train['biketype'].unique().size"
   ]
  },
  {
   "cell_type": "markdown",
   "metadata": {},
   "source": [
    "训练数据涉及近35万用户，48万辆车，2种车型。"
   ]
  },
  {
   "cell_type": "markdown",
   "metadata": {},
   "source": [
    "## 数据处理\n",
    "\n",
    "由于原测试集数据量较大，自己电脑运行较慢，所以随记挑选50%进行分析。"
   ]
  },
  {
   "cell_type": "code",
   "execution_count": 12,
   "metadata": {},
   "outputs": [],
   "source": [
    "train = train.sample(frac=0.5)"
   ]
  },
  {
   "cell_type": "markdown",
   "metadata": {},
   "source": [
    "### 基本思路：  \n",
    "1.将起始日期分成星期，天，小时，方便后续进行不同时间的分析；  \n",
    "2.将geohash编码进行反编码，进行骑行距离的计算，并用neighbors方法算出以起点为中心的九宫格编码；  \n",
    "3.考虑到geohash7位编码距离较小，仅为153m × 153m的范围，实际骑行中基本都能超出范围，所以将7位编码转化成6位编码，范围增加到 1.22km × 0.61km，较为符合实际情况；  \n",
    "4.利用geohash判断训练集中的目的地是否在九宫格内；  \n",
    "5.计算骑行距离，公式直接从网上找的"
   ]
  },
  {
   "cell_type": "code",
   "execution_count": 13,
   "metadata": {},
   "outputs": [],
   "source": [
    "def _processData(df):\n",
    "    #将starttime 分成weekday,day,hour三类，方便后续不同时间段数据展示\n",
    "    df['weekday'] = df['starttime'].apply(lambda s : s.weekday())\n",
    "    df['day'] = df['starttime'].apply(lambda s : str(s)[:10])\n",
    "    df['hour'] = df['starttime'].apply(lambda s : s.hour)\n",
    "    print('时间处理完成！！！')\n",
    "    \n",
    "    #将geohash字符串反编码，方便后续计算骑行距离\n",
    "    df['start_lat_lng'] = df['geohashed_start_loc'].apply(lambda s : geohash.decode(s))\n",
    "    df['end_lat_lng'] = df['geohashed_end_loc'].apply(lambda s : geohash.decode(s))\n",
    "    df['start_neighbors'] = df[\"geohashed_start_loc\"].apply(lambda s : geohash.neighbors(s))\n",
    "    \n",
    "    #原数据中的geohash字符串是g7，现在转成g6\n",
    "    df['geohashed_start_loc_6'] = df['geohashed_start_loc'].apply(lambda s : s[:6])\n",
    "    df['geohashed_end_loc_6'] = df['geohashed_end_loc'].apply(lambda s : s[:6])\n",
    "    df['start_neighbors_6'] = df[\"geohashed_start_loc_6\"].apply(lambda s : geohash.neighbors(s))\n",
    "    print('Geohash处理完成！！！')\n",
    "    \n",
    "    #判断目的地是否在neighbors\n",
    "    def inGeohash(start_geohash, end_geohash, names):\n",
    "        names.append(start_geohash)\n",
    "        if end_geohash in names:\n",
    "            return 1\n",
    "        else:\n",
    "            return 0\n",
    "    df['inside'] = df.apply(lambda s : inGeohash(s['geohashed_start_loc'],s['geohashed_end_loc'],s['start_neighbors']), axis = 1)\n",
    "    df['inside_6'] = df.apply(lambda s : inGeohash(s['geohashed_start_loc_6'],s['geohashed_end_loc_6'],s['start_neighbors_6']), axis = 1)\n",
    "    print(\"Geohash近邻判断处理完成！！！\")\n",
    "    \n",
    "    #计算起点与终点距离\n",
    "    def haversine(lon1, lat1, lon2, lat2): \n",
    "        \"\"\"\n",
    "        Calculate the great circle distance between two points \n",
    "        on the earth (specified in decimal degrees)\n",
    "        \"\"\"\n",
    "        lon1, lat1, lon2, lat2 = map(radians, [lon1, lat1, lon2, lat2])\n",
    "        # haversine公式\n",
    "        dlon = lon2 - lon1 \n",
    "        dlat = lat2 - lat1 \n",
    "        a = sin(dlat/2)**2 + cos(lat1) * cos(lat2) * sin(dlon/2)**2\n",
    "        c = 2 * asin(sqrt(a)) \n",
    "        r = 6371 # 地球平均半径，单位为公里\n",
    "        return c * r * 1000\n",
    "    df['start_end_distance'] = df.apply(lambda s : haversine(s['start_lat_lng'][0],s['start_lat_lng'][1],s['end_lat_lng'][0],\n",
    "                                                             s['end_lat_lng'][1]),axis = 1)\n",
    "    print(\"距离计算完成！！！\")\n",
    "    return df"
   ]
  },
  {
   "cell_type": "code",
   "execution_count": 15,
   "metadata": {},
   "outputs": [
    {
     "name": "stdout",
     "output_type": "stream",
     "text": [
      "时间处理完成！！！\n",
      "Geohash处理完成！！！\n",
      "Geohash近邻判断处理完成！！！\n",
      "距离计算完成！！！\n"
     ]
    }
   ],
   "source": [
    "train = _processData(train)"
   ]
  },
  {
   "cell_type": "code",
   "execution_count": 16,
   "metadata": {
    "scrolled": true
   },
   "outputs": [
    {
     "data": {
      "text/html": [
       "<div>\n",
       "<style scoped>\n",
       "    .dataframe tbody tr th:only-of-type {\n",
       "        vertical-align: middle;\n",
       "    }\n",
       "\n",
       "    .dataframe tbody tr th {\n",
       "        vertical-align: top;\n",
       "    }\n",
       "\n",
       "    .dataframe thead th {\n",
       "        text-align: right;\n",
       "    }\n",
       "</style>\n",
       "<table border=\"1\" class=\"dataframe\">\n",
       "  <thead>\n",
       "    <tr style=\"text-align: right;\">\n",
       "      <th></th>\n",
       "      <th>orderid</th>\n",
       "      <th>userid</th>\n",
       "      <th>bikeid</th>\n",
       "      <th>biketype</th>\n",
       "      <th>starttime</th>\n",
       "      <th>geohashed_start_loc</th>\n",
       "      <th>geohashed_end_loc</th>\n",
       "      <th>weekday</th>\n",
       "      <th>day</th>\n",
       "      <th>hour</th>\n",
       "      <th>start_lat_lng</th>\n",
       "      <th>end_lat_lng</th>\n",
       "      <th>start_neighbors</th>\n",
       "      <th>geohashed_start_loc_6</th>\n",
       "      <th>geohashed_end_loc_6</th>\n",
       "      <th>start_neighbors_6</th>\n",
       "      <th>inside</th>\n",
       "      <th>inside_6</th>\n",
       "      <th>start_end_distance</th>\n",
       "    </tr>\n",
       "  </thead>\n",
       "  <tbody>\n",
       "    <tr>\n",
       "      <th>1705822</th>\n",
       "      <td>3865329</td>\n",
       "      <td>48392</td>\n",
       "      <td>396399</td>\n",
       "      <td>1</td>\n",
       "      <td>2017-05-16 16:08:31</td>\n",
       "      <td>wx4fk2d</td>\n",
       "      <td>wx4fk31</td>\n",
       "      <td>1</td>\n",
       "      <td>2017-05-16</td>\n",
       "      <td>16</td>\n",
       "      <td>(39.77394104003906, 116.55738830566406)</td>\n",
       "      <td>(39.77668762207031, 116.55601501464844)</td>\n",
       "      <td>[wx4fk29, wx4fk2e, wx4fk2c, wx4fk2f, wx4fk2g, ...</td>\n",
       "      <td>wx4fk2</td>\n",
       "      <td>wx4fk3</td>\n",
       "      <td>[wx4fk0, wx4fk8, wx4fk1, wx4fk3, wx4fk9, wx4fh...</td>\n",
       "      <td>0</td>\n",
       "      <td>1</td>\n",
       "      <td>204.846028</td>\n",
       "    </tr>\n",
       "    <tr>\n",
       "      <th>1472084</th>\n",
       "      <td>422094</td>\n",
       "      <td>832259</td>\n",
       "      <td>58039</td>\n",
       "      <td>1</td>\n",
       "      <td>2017-05-15 12:31:24</td>\n",
       "      <td>wx4g61e</td>\n",
       "      <td>wx4g3bm</td>\n",
       "      <td>0</td>\n",
       "      <td>2017-05-15</td>\n",
       "      <td>12</td>\n",
       "      <td>(39.95521545410156, 116.45988464355469)</td>\n",
       "      <td>(39.94834899902344, 116.45164489746094)</td>\n",
       "      <td>[wx4g61d, wx4g61s, wx4g61f, wx4g61g, wx4g61u, ...</td>\n",
       "      <td>wx4g61</td>\n",
       "      <td>wx4g3b</td>\n",
       "      <td>[wx4g3c, wx4g63, wx4g3f, wx4g64, wx4g66, wx4g3...</td>\n",
       "      <td>0</td>\n",
       "      <td>1</td>\n",
       "      <td>977.321903</td>\n",
       "    </tr>\n",
       "    <tr>\n",
       "      <th>1019008</th>\n",
       "      <td>4921869</td>\n",
       "      <td>896352</td>\n",
       "      <td>486992</td>\n",
       "      <td>1</td>\n",
       "      <td>2017-05-14 13:42:07</td>\n",
       "      <td>wx4etvp</td>\n",
       "      <td>wx4etuf</td>\n",
       "      <td>6</td>\n",
       "      <td>2017-05-14</td>\n",
       "      <td>13</td>\n",
       "      <td>(40.01838684082031, 116.27861022949219)</td>\n",
       "      <td>(40.01701354980469, 116.27174377441406)</td>\n",
       "      <td>[wx4etvn, wx4ewj0, wx4etvq, wx4etvr, wx4ewj2, ...</td>\n",
       "      <td>wx4etv</td>\n",
       "      <td>wx4etu</td>\n",
       "      <td>[wx4ett, wx4ewj, wx4etw, wx4ety, wx4ewn, wx4et...</td>\n",
       "      <td>0</td>\n",
       "      <td>1</td>\n",
       "      <td>766.501618</td>\n",
       "    </tr>\n",
       "    <tr>\n",
       "      <th>1184782</th>\n",
       "      <td>172210</td>\n",
       "      <td>332583</td>\n",
       "      <td>24093</td>\n",
       "      <td>1</td>\n",
       "      <td>2017-05-14 08:52:12</td>\n",
       "      <td>wx5h2en</td>\n",
       "      <td>wx5h2ee</td>\n",
       "      <td>6</td>\n",
       "      <td>2017-05-14</td>\n",
       "      <td>8</td>\n",
       "      <td>(40.13923645019531, 116.74964904785156)</td>\n",
       "      <td>(40.14198303222656, 116.74552917480469)</td>\n",
       "      <td>[wx5h2ej, wx5h2ep, wx5h2em, wx5h2eq, wx5h2er, ...</td>\n",
       "      <td>wx5h2e</td>\n",
       "      <td>wx5h2e</td>\n",
       "      <td>[wx5h27, wx5h2g, wx5h2k, wx5h2s, wx5h2u, wx5h2...</td>\n",
       "      <td>0</td>\n",
       "      <td>1</td>\n",
       "      <td>478.285160</td>\n",
       "    </tr>\n",
       "    <tr>\n",
       "      <th>1582564</th>\n",
       "      <td>2703085</td>\n",
       "      <td>30524</td>\n",
       "      <td>286455</td>\n",
       "      <td>2</td>\n",
       "      <td>2017-05-15 20:07:45</td>\n",
       "      <td>wx4g55u</td>\n",
       "      <td>wx4g54q</td>\n",
       "      <td>0</td>\n",
       "      <td>2017-05-15</td>\n",
       "      <td>20</td>\n",
       "      <td>(39.92362976074219, 116.50520324707031)</td>\n",
       "      <td>(39.91539001464844, 116.50794982910156)</td>\n",
       "      <td>[wx4g55g, wx4g55v, wx4g5h5, wx4g5hh, wx4g5hj, ...</td>\n",
       "      <td>wx4g55</td>\n",
       "      <td>wx4g54</td>\n",
       "      <td>[wx4g4g, wx4g57, wx4g4u, wx4g5h, wx4g5k, wx4g4...</td>\n",
       "      <td>0</td>\n",
       "      <td>1</td>\n",
       "      <td>510.371464</td>\n",
       "    </tr>\n",
       "  </tbody>\n",
       "</table>\n",
       "</div>"
      ],
      "text/plain": [
       "         orderid  userid  bikeid  biketype           starttime  \\\n",
       "1705822  3865329   48392  396399         1 2017-05-16 16:08:31   \n",
       "1472084   422094  832259   58039         1 2017-05-15 12:31:24   \n",
       "1019008  4921869  896352  486992         1 2017-05-14 13:42:07   \n",
       "1184782   172210  332583   24093         1 2017-05-14 08:52:12   \n",
       "1582564  2703085   30524  286455         2 2017-05-15 20:07:45   \n",
       "\n",
       "        geohashed_start_loc geohashed_end_loc  weekday         day  hour  \\\n",
       "1705822             wx4fk2d           wx4fk31        1  2017-05-16    16   \n",
       "1472084             wx4g61e           wx4g3bm        0  2017-05-15    12   \n",
       "1019008             wx4etvp           wx4etuf        6  2017-05-14    13   \n",
       "1184782             wx5h2en           wx5h2ee        6  2017-05-14     8   \n",
       "1582564             wx4g55u           wx4g54q        0  2017-05-15    20   \n",
       "\n",
       "                                   start_lat_lng  \\\n",
       "1705822  (39.77394104003906, 116.55738830566406)   \n",
       "1472084  (39.95521545410156, 116.45988464355469)   \n",
       "1019008  (40.01838684082031, 116.27861022949219)   \n",
       "1184782  (40.13923645019531, 116.74964904785156)   \n",
       "1582564  (39.92362976074219, 116.50520324707031)   \n",
       "\n",
       "                                     end_lat_lng  \\\n",
       "1705822  (39.77668762207031, 116.55601501464844)   \n",
       "1472084  (39.94834899902344, 116.45164489746094)   \n",
       "1019008  (40.01701354980469, 116.27174377441406)   \n",
       "1184782  (40.14198303222656, 116.74552917480469)   \n",
       "1582564  (39.91539001464844, 116.50794982910156)   \n",
       "\n",
       "                                           start_neighbors  \\\n",
       "1705822  [wx4fk29, wx4fk2e, wx4fk2c, wx4fk2f, wx4fk2g, ...   \n",
       "1472084  [wx4g61d, wx4g61s, wx4g61f, wx4g61g, wx4g61u, ...   \n",
       "1019008  [wx4etvn, wx4ewj0, wx4etvq, wx4etvr, wx4ewj2, ...   \n",
       "1184782  [wx5h2ej, wx5h2ep, wx5h2em, wx5h2eq, wx5h2er, ...   \n",
       "1582564  [wx4g55g, wx4g55v, wx4g5h5, wx4g5hh, wx4g5hj, ...   \n",
       "\n",
       "        geohashed_start_loc_6 geohashed_end_loc_6  \\\n",
       "1705822                wx4fk2              wx4fk3   \n",
       "1472084                wx4g61              wx4g3b   \n",
       "1019008                wx4etv              wx4etu   \n",
       "1184782                wx5h2e              wx5h2e   \n",
       "1582564                wx4g55              wx4g54   \n",
       "\n",
       "                                         start_neighbors_6  inside  inside_6  \\\n",
       "1705822  [wx4fk0, wx4fk8, wx4fk1, wx4fk3, wx4fk9, wx4fh...       0         1   \n",
       "1472084  [wx4g3c, wx4g63, wx4g3f, wx4g64, wx4g66, wx4g3...       0         1   \n",
       "1019008  [wx4ett, wx4ewj, wx4etw, wx4ety, wx4ewn, wx4et...       0         1   \n",
       "1184782  [wx5h27, wx5h2g, wx5h2k, wx5h2s, wx5h2u, wx5h2...       0         1   \n",
       "1582564  [wx4g4g, wx4g57, wx4g4u, wx4g5h, wx4g5k, wx4g4...       0         1   \n",
       "\n",
       "         start_end_distance  \n",
       "1705822          204.846028  \n",
       "1472084          977.321903  \n",
       "1019008          766.501618  \n",
       "1184782          478.285160  \n",
       "1582564          510.371464  "
      ]
     },
     "execution_count": 16,
     "metadata": {},
     "output_type": "execute_result"
    }
   ],
   "source": [
    "train.head()"
   ]
  },
  {
   "cell_type": "markdown",
   "metadata": {},
   "source": [
    "## 数据分析"
   ]
  },
  {
   "cell_type": "markdown",
   "metadata": {},
   "source": [
    "### 1、从日期上进行分析"
   ]
  },
  {
   "cell_type": "code",
   "execution_count": 17,
   "metadata": {},
   "outputs": [],
   "source": [
    "def _timeAnalysis(df):\n",
    "    #数据包含的天数\n",
    "    print('数据集包含的天数如下：')\n",
    "    print(df['day'].unique())\n",
    "    print('*'*60)\n",
    "    \n",
    "    #用户出行小时高峰期\n",
    "    g1 = df.groupby('hour')\n",
    "    print(g1['orderid'].count().sort_values(ascending = False))\n",
    "    print('*'*60)\n",
    "    \n",
    "    #周一到周日用车分析\n",
    "    g1 = df.groupby('weekday')\n",
    "    print(pd.DataFrame(g1['weekday'].count()))\n",
    "    print('*'*60)\n",
    "    \n",
    "    #周一到周日不同时间的用车分析\n",
    "    df.loc[(df['weekday'] == 5) | (df['weekday'] == 6), 'isWeekend'] = 1\n",
    "    df.loc[~(df['weekday'] == 5) | (df['weekday'] == 6), 'isWeekend'] = 0\n",
    "    g1 = df.groupby(['isWeekend', 'hour'])\n",
    "    \n",
    "    #计算工作日以及周末的天数\n",
    "    g2 = df.groupby(['day', 'weekday'])\n",
    "    w = 0 #周末天数\n",
    "    c = 0 #工作日天数\n",
    "    for i,j in list(g2.groups.keys()):\n",
    "        if j >= 5:\n",
    "            w += 1\n",
    "        else:\n",
    "            c += 1\n",
    "    \n",
    "    temp_df = pd.DataFrame(g1['orderid'].count()).reset_index()\n",
    "    temp_df.loc[temp_df['isWeekend'] == 0 , 'orderid'] = temp_df['orderid']/c\n",
    "    temp_df.loc[temp_df['isWeekend'] == 1 , 'orderid'] = temp_df['orderid']/w\n",
    "    print(temp_df.sort_values(['isWeekend', 'orderid'], ascending = False))\n",
    "    sns.barplot(x = 'hour', y = 'orderid', hue = 'isWeekend', data = temp_df)"
   ]
  },
  {
   "cell_type": "code",
   "execution_count": 18,
   "metadata": {
    "scrolled": true
   },
   "outputs": [
    {
     "name": "stdout",
     "output_type": "stream",
     "text": [
      "数据集包含的天数如下：\n",
      "['2017-05-16' '2017-05-15' '2017-05-14' '2017-05-24' '2017-05-11'\n",
      " '2017-05-20' '2017-05-10' '2017-05-19' '2017-05-13' '2017-05-18'\n",
      " '2017-05-23' '2017-05-21' '2017-05-12' '2017-05-22']\n",
      "************************************************************\n",
      "hour\n",
      "7     157842\n",
      "18    144468\n",
      "8     142778\n",
      "17    136795\n",
      "19    104335\n",
      "12    100484\n",
      "16     89726\n",
      "11     86124\n",
      "13     81889\n",
      "15     78060\n",
      "20     76111\n",
      "9      74031\n",
      "14     68322\n",
      "21     63280\n",
      "10     63223\n",
      "6      60655\n",
      "22     35001\n",
      "5      14483\n",
      "23     14057\n",
      "0       6699\n",
      "1       3167\n",
      "4       2225\n",
      "2       1878\n",
      "3       1415\n",
      "Name: orderid, dtype: int64\n",
      "************************************************************\n",
      "         weekday\n",
      "weekday         \n",
      "0         202215\n",
      "1         219687\n",
      "2         195645\n",
      "3         297083\n",
      "4         289599\n",
      "5         179915\n",
      "6         222904\n",
      "************************************************************\n",
      "    isWeekend  hour   orderid\n",
      "32        1.0     8   3755.75\n",
      "35        1.0    11   3746.00\n",
      "41        1.0    17   3705.25\n",
      "37        1.0    13   3322.75\n",
      "34        1.0    10   3298.75\n",
      "33        1.0     9   3070.75\n",
      "31        1.0     7   2829.25\n",
      "39        1.0    15   2687.50\n",
      "42        1.0    18   2605.00\n",
      "36        1.0    12   2594.00\n",
      "40        1.0    16   2299.75\n",
      "38        1.0    14   2117.50\n",
      "43        1.0    19   2100.75\n",
      "44        1.0    20   1774.25\n",
      "45        1.0    21   1474.75\n",
      "30        1.0     6   1336.25\n",
      "46        1.0    22    751.50\n",
      "29        1.0     5    466.50\n",
      "47        1.0    23    409.75\n",
      "24        1.0     0    272.75\n",
      "25        1.0     1    129.50\n",
      "28        1.0     4     85.25\n",
      "26        1.0     2     83.00\n",
      "27        1.0     3     62.25\n",
      "7         0.0     7  14652.50\n",
      "18        0.0    18  13404.80\n",
      "8         0.0     8  12775.50\n",
      "17        0.0    17  12197.40\n",
      "19        0.0    19   9593.20\n",
      "12        0.0    12   9010.80\n",
      "16        0.0    16   8052.70\n",
      "11        0.0    11   7114.00\n",
      "20        0.0    20   6901.40\n",
      "13        0.0    13   6859.80\n",
      "15        0.0    15   6731.00\n",
      "9         0.0     9   6174.80\n",
      "14        0.0    14   5985.20\n",
      "21        0.0    21   5738.10\n",
      "6         0.0     6   5531.00\n",
      "10        0.0    10   5002.80\n",
      "22        0.0    22   3199.50\n",
      "5         0.0     5   1261.70\n",
      "23        0.0    23   1241.80\n",
      "0         0.0     0    560.80\n",
      "1         0.0     1    264.90\n",
      "4         0.0     4    188.40\n",
      "2         0.0     2    154.60\n",
      "3         0.0     3    116.60\n"
     ]
    },
    {
     "data": {
      "image/png": "[encoded data removed]",
      "text/plain": [
       "<Figure size 432x288 with 1 Axes>"
      ]
     },
     "metadata": {
      "needs_background": "light"
     },
     "output_type": "display_data"
    }
   ],
   "source": [
    "_timeAnalysis(train)"
   ]
  },
  {
   "cell_type": "markdown",
   "metadata": {},
   "source": [
    "### 小结  \n",
    "1、训练集中包含共有14天的数据。    \n",
    "2、早上7点/8点及下午6点/7点骑行订单最多，符合早晚高峰出行的实际情况。  \n",
    "3、周一到周日订单基本都在20万左右，周三周四最多。差距不是很大。  \n",
    "4、周末订单很少，订单最多的是工作日早晚高峰时期。  "
   ]
  },
  {
   "cell_type": "markdown",
   "metadata": {},
   "source": [
    "### 2、从出行距离上进行分析"
   ]
  },
  {
   "cell_type": "code",
   "execution_count": 19,
   "metadata": {},
   "outputs": [
    {
     "data": {
      "text/plain": [
       "count    1.607048e+06\n",
       "mean     7.342807e+02\n",
       "std      7.269804e+02\n",
       "min      6.637380e+01\n",
       "25%      3.391308e+02\n",
       "50%      6.108120e+02\n",
       "75%      9.162180e+02\n",
       "max      4.458933e+04\n",
       "Name: start_end_distance, dtype: float64"
      ]
     },
     "execution_count": 19,
     "metadata": {},
     "output_type": "execute_result"
    }
   ],
   "source": [
    "#出行距离的描述统计\n",
    "train['start_end_distance'].describe()"
   ]
  },
  {
   "cell_type": "code",
   "execution_count": 20,
   "metadata": {
    "scrolled": true
   },
   "outputs": [
    {
     "data": {
      "text/plain": [
       "<matplotlib.axes._subplots.AxesSubplot at 0x1cb8a8bc5c0>"
      ]
     },
     "execution_count": 20,
     "metadata": {},
     "output_type": "execute_result"
    },
    {
     "data": {
      "image/png": "[encoded data removed]",
      "text/plain": [
       "<Figure size 432x288 with 1 Axes>"
      ]
     },
     "metadata": {
      "needs_background": "light"
     },
     "output_type": "display_data"
    }
   ],
   "source": [
    "sns.distplot(train['start_end_distance'])"
   ]
  },
  {
   "cell_type": "markdown",
   "metadata": {},
   "source": [
    "从骑行距离的统计来看，大部分人都骑行不超过1公里，较为符合短途骑行的特点。最远的有40公里，属于异常值。  \n",
    "将超过5公里的去掉，查看分布情况。"
   ]
  },
  {
   "cell_type": "code",
   "execution_count": 21,
   "metadata": {
    "scrolled": true
   },
   "outputs": [
    {
     "data": {
      "text/plain": [
       "<matplotlib.axes._subplots.AxesSubplot at 0x1cb8a9f63c8>"
      ]
     },
     "execution_count": 21,
     "metadata": {},
     "output_type": "execute_result"
    },
    {
     "data": {
      "image/png": "[encoded data removed]",
      "text/plain": [
       "<Figure size 432x288 with 1 Axes>"
      ]
     },
     "metadata": {
      "needs_background": "light"
     },
     "output_type": "display_data"
    }
   ],
   "source": [
    "start_end_distance = train['start_end_distance']\n",
    "start_end_distance = start_end_distance.loc[start_end_distance < 5000]\n",
    "sns.distplot(start_end_distance)"
   ]
  },
  {
   "cell_type": "markdown",
   "metadata": {},
   "source": [
    "绝大多数骑行距离不超过1公里。"
   ]
  },
  {
   "cell_type": "markdown",
   "metadata": {},
   "source": [
    "### 小结  \n",
    "绝大多数骑行距离在1公里以内，符合摩拜单车解决最后一公里的服务特点。"
   ]
  },
  {
   "cell_type": "markdown",
   "metadata": {},
   "source": [
    "### 3、时间x距离进行分析"
   ]
  },
  {
   "cell_type": "code",
   "execution_count": 22,
   "metadata": {},
   "outputs": [],
   "source": [
    "#不同时间骑行的距离\n",
    "hour_group = train.groupby('hour')\n",
    "hour_distance = hour_group.agg({'start_end_distance':'mean'}).reset_index()"
   ]
  },
  {
   "cell_type": "code",
   "execution_count": 24,
   "metadata": {
    "scrolled": true
   },
   "outputs": [
    {
     "data": {
      "text/plain": [
       "<matplotlib.axes._subplots.AxesSubplot at 0x1cb8aad4128>"
      ]
     },
     "execution_count": 24,
     "metadata": {},
     "output_type": "execute_result"
    },
    {
     "data": {
      "image/png": "[encoded data removed]",
      "text/plain": [
       "<Figure size 432x288 with 1 Axes>"
      ]
     },
     "metadata": {
      "needs_background": "light"
     },
     "output_type": "display_data"
    }
   ],
   "source": [
    "sns.barplot(x = 'hour', y = 'start_end_distance', data = hour_distance)"
   ]
  },
  {
   "cell_type": "markdown",
   "metadata": {},
   "source": [
    "###  小结  \n",
    "在不同时间上的平均骑行距离基本是一致的，没有特别突出的情况。"
   ]
  },
  {
   "cell_type": "markdown",
   "metadata": {},
   "source": [
    "### 4、从小时上进行分析"
   ]
  },
  {
   "cell_type": "code",
   "execution_count": 26,
   "metadata": {
    "scrolled": true
   },
   "outputs": [
    {
     "data": {
      "text/html": [
       "<div>\n",
       "<style scoped>\n",
       "    .dataframe tbody tr th:only-of-type {\n",
       "        vertical-align: middle;\n",
       "    }\n",
       "\n",
       "    .dataframe tbody tr th {\n",
       "        vertical-align: top;\n",
       "    }\n",
       "\n",
       "    .dataframe thead th {\n",
       "        text-align: right;\n",
       "    }\n",
       "</style>\n",
       "<table border=\"1\" class=\"dataframe\">\n",
       "  <thead>\n",
       "    <tr style=\"text-align: right;\">\n",
       "      <th></th>\n",
       "      <th>hour</th>\n",
       "      <th>orderid</th>\n",
       "    </tr>\n",
       "  </thead>\n",
       "  <tbody>\n",
       "    <tr>\n",
       "      <th>0</th>\n",
       "      <td>0</td>\n",
       "      <td>6699</td>\n",
       "    </tr>\n",
       "    <tr>\n",
       "      <th>1</th>\n",
       "      <td>1</td>\n",
       "      <td>3167</td>\n",
       "    </tr>\n",
       "    <tr>\n",
       "      <th>2</th>\n",
       "      <td>2</td>\n",
       "      <td>1878</td>\n",
       "    </tr>\n",
       "    <tr>\n",
       "      <th>3</th>\n",
       "      <td>3</td>\n",
       "      <td>1415</td>\n",
       "    </tr>\n",
       "    <tr>\n",
       "      <th>4</th>\n",
       "      <td>4</td>\n",
       "      <td>2225</td>\n",
       "    </tr>\n",
       "  </tbody>\n",
       "</table>\n",
       "</div>"
      ],
      "text/plain": [
       "   hour  orderid\n",
       "0     0     6699\n",
       "1     1     3167\n",
       "2     2     1878\n",
       "3     3     1415\n",
       "4     4     2225"
      ]
     },
     "execution_count": 26,
     "metadata": {},
     "output_type": "execute_result"
    }
   ],
   "source": [
    "#不同小时的出行次数\n",
    "hour_num_df = hour_group.agg({'orderid':'count'}).reset_index()\n",
    "hour_num_df.head()"
   ]
  },
  {
   "cell_type": "code",
   "execution_count": 27,
   "metadata": {
    "scrolled": true
   },
   "outputs": [
    {
     "data": {
      "text/plain": [
       "<matplotlib.axes._subplots.AxesSubplot at 0x1cb8ab78438>"
      ]
     },
     "execution_count": 27,
     "metadata": {},
     "output_type": "execute_result"
    },
    {
     "data": {
      "image/png": "[encoded data removed]",
      "text/plain": [
       "<Figure size 432x288 with 1 Axes>"
      ]
     },
     "metadata": {
      "needs_background": "light"
     },
     "output_type": "display_data"
    }
   ],
   "source": [
    "sns.barplot(x = 'hour', y = 'orderid', data = hour_num_df)"
   ]
  },
  {
   "cell_type": "markdown",
   "metadata": {},
   "source": [
    "早晚高峰出行次数最多"
   ]
  },
  {
   "cell_type": "code",
   "execution_count": 28,
   "metadata": {},
   "outputs": [
    {
     "data": {
      "text/plain": [
       "<matplotlib.axes._subplots.AxesSubplot at 0x1cb8ac7a358>"
      ]
     },
     "execution_count": 28,
     "metadata": {},
     "output_type": "execute_result"
    },
    {
     "data": {
      "image/png": "[encoded data removed]",
      "text/plain": [
       "<Figure size 432x288 with 1 Axes>"
      ]
     },
     "metadata": {
      "needs_background": "light"
     },
     "output_type": "display_data"
    }
   ],
   "source": [
    "#工作日与非工作日不同小时的出行次数\n",
    "w_hour_group = train.groupby(['isWeekend', 'hour'])\n",
    "w_hour_num_df = w_hour_group.agg({'orderid':'count'}).reset_index()\n",
    "sns.barplot(x = 'hour', y = 'orderid', data = w_hour_num_df, hue = 'isWeekend')"
   ]
  },
  {
   "cell_type": "markdown",
   "metadata": {},
   "source": [
    "### 小结  \n",
    "双休日没有早晚高峰出行特点"
   ]
  },
  {
   "cell_type": "markdown",
   "metadata": {},
   "source": [
    "## 总结  \n",
    "1、工作日出行次数较多，双休日出行次数较少。  \n",
    "2、工作日有早晚出行高峰的特点，双休日没有。  \n",
    "3、骑行距离一般不超过1公里。  \n",
    "结论：出行时间与是否工作日这两个特征对用户行为有着重要的影响。"
   ]
  }
 ],
 "metadata": {
  "kernelspec": {
   "display_name": "Python 3",
   "language": "python",
   "name": "python3"
  },
  "language_info": {
   "codemirror_mode": {
    "name": "ipython",
    "version": 3
   },
   "file_extension": ".py",
   "mimetype": "text/x-python",
   "name": "python",
   "nbconvert_exporter": "python",
   "pygments_lexer": "ipython3",
   "version": "3.7.3"
  }
 },
 "nbformat": 4,
 "nbformat_minor": 2
}
